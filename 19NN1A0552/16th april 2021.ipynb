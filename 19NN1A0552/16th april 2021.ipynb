{
 "cells": [
  {
   "cell_type": "code",
   "execution_count": 1,
   "metadata": {},
   "outputs": [
    {
     "name": "stdout",
     "output_type": "stream",
     "text": [
      "1\n",
      "2\n",
      "3\n",
      "4\n",
      "5\n",
      "6\n",
      "7\n",
      "8\n",
      "9\n",
      "10\n"
     ]
    }
   ],
   "source": [
    "#print first 10 numbers(single parameter)\n",
    "for i in range(1,11):\n",
    "    print(i)"
   ]
  },
  {
   "cell_type": "code",
   "execution_count": 2,
   "metadata": {},
   "outputs": [
    {
     "name": "stdout",
     "output_type": "stream",
     "text": [
      "1\n",
      "4\n",
      "7\n",
      "10\n"
     ]
    }
   ],
   "source": [
    "#print numbers(two parameter)\n",
    "for i in range(1,11,3):\n",
    "    print(i)"
   ]
  },
  {
   "cell_type": "code",
   "execution_count": 3,
   "metadata": {},
   "outputs": [
    {
     "name": "stdout",
     "output_type": "stream",
     "text": [
      "enter n value:1\n",
      "enter n1 value:20\n",
      "2\n",
      "4\n",
      "6\n",
      "8\n",
      "10\n",
      "12\n",
      "14\n",
      "16\n",
      "18\n"
     ]
    }
   ],
   "source": [
    "n=int(input(\"enter n value:\"))\n",
    "n1=int(input(\"enter n1 value:\"))\n",
    "for i in range(n,n1):\n",
    "    if i%2==0:\n",
    "        print(i)"
   ]
  },
  {
   "cell_type": "code",
   "execution_count": 4,
   "metadata": {},
   "outputs": [
    {
     "name": "stdout",
     "output_type": "stream",
     "text": [
      "enter n value:1\n",
      "enter n1 value:10\n",
      "0246810"
     ]
    }
   ],
   "source": [
    "n=int(input(\"enter n value:\"))\n",
    "n1=int(input(\"enter n1 value:\"))\n",
    "for i in range(0,11,2):\n",
    "    print(i,end='')"
   ]
  },
  {
   "cell_type": "code",
   "execution_count": 5,
   "metadata": {},
   "outputs": [
    {
     "name": "stdout",
     "output_type": "stream",
     "text": [
      "enter n value:10\n",
      "45\n",
      "4.5\n"
     ]
    }
   ],
   "source": [
    "n=int(input(\"enter n value:\"))\n",
    "sum=0\n",
    "for i in range(n):\n",
    "    sum=sum+i\n",
    "print(sum)\n",
    "average=sum/n\n",
    "print(average)"
   ]
  },
  {
   "cell_type": "code",
   "execution_count": 6,
   "metadata": {},
   "outputs": [
    {
     "name": "stdout",
     "output_type": "stream",
     "text": [
      "enter a value10\n",
      "enter b value50\n",
      "1230\n",
      "1230\n",
      "average 1.0\n"
     ]
    }
   ],
   "source": [
    "a=int(input(\"enter a value\"))\n",
    "b=int(input(\"enter b value\"))\n",
    "sum=0\n",
    "count=0\n",
    "for i in range(a,b+1):\n",
    "    sum=sum+i\n",
    "    count=count+i\n",
    "print(sum)\n",
    "print(count)\n",
    "print(\"average\",sum/count)\n"
   ]
  },
  {
   "cell_type": "code",
   "execution_count": 7,
   "metadata": {},
   "outputs": [
    {
     "name": "stdout",
     "output_type": "stream",
     "text": [
      "10\n",
      "50\n",
      "sum of even numbers is 0\n",
      "average is 0.0\n"
     ]
    }
   ],
   "source": [
    "n=int(input())\n",
    "n1=int(input())\n",
    "sum1=0\n",
    "count=0\n",
    "for i in range(n,n1+1):\n",
    "    if i%2==0:\n",
    "        count=count+1\n",
    "        sum=sum+1\n",
    "print(\"sum of even numbers is\",sum1)\n",
    "print(\"average is\",sum1/count)"
   ]
  },
  {
   "cell_type": "code",
   "execution_count": 8,
   "metadata": {},
   "outputs": [
    {
     "name": "stdout",
     "output_type": "stream",
     "text": [
      "1\n",
      "15\n",
      "sum is: 120\n",
      "average is 8.0\n"
     ]
    }
   ],
   "source": [
    "n=input()\n",
    "n1=input()\n",
    "sum1=0\n",
    "count=0\n",
    "for i in range(int(n),int(n1)+1):\n",
    "    count=count+1\n",
    "    sum1=sum1+int(i)\n",
    "print(\"sum is:\",sum1)\n",
    "#print(count)\n",
    "print(\"average is\",sum1/count)"
   ]
  },
  {
   "cell_type": "code",
   "execution_count": 9,
   "metadata": {},
   "outputs": [
    {
     "name": "stdout",
     "output_type": "stream",
     "text": [
      "5\n",
      "factorial of a given number: 120\n"
     ]
    }
   ],
   "source": [
    "#print factorial of a number\n",
    "n=int(input())\n",
    "fact=1\n",
    "for i in range(1,n+1):\n",
    "    fact=fact*i\n",
    "print(\"factorial of a given number:\",fact)"
   ]
  },
  {
   "cell_type": "markdown",
   "metadata": {},
   "source": []
  },
  {
   "cell_type": "code",
   "execution_count": 10,
   "metadata": {},
   "outputs": [
    {
     "name": "stdout",
     "output_type": "stream",
     "text": [
      "5\n",
      "2\n",
      "5 is prime number\n"
     ]
    }
   ],
   "source": [
    "#check whether the given number is prime or not\n",
    "n=int(input())\n",
    "factor_count=0\n",
    "for i in range(1,n+1):\n",
    "    if n%i==0:\n",
    "        factor_count +=1\n",
    "print(factor_count)\n",
    "if factor_count==2:\n",
    "    print(n,\"is prime number\")\n",
    "else:\n",
    "    print(n,\"is not a prime number\")"
   ]
  },
  {
   "cell_type": "code",
   "execution_count": 12,
   "metadata": {},
   "outputs": [
    {
     "name": "stdout",
     "output_type": "stream",
     "text": [
      "6\n",
      "3\n",
      "6 is not a perfect number\n"
     ]
    }
   ],
   "source": [
    "#check whether the given number is perfect or not\n",
    "n=int(input())\n",
    "sum1=0\n",
    "for i in range(1,n):\n",
    "    if n%i==0:\n",
    "        sum1+=1\n",
    "print(sum1)\n",
    "if sum1==n:\n",
    "    print(n,\"is a perfect number\")\n",
    "else:\n",
    "    print(n,\"is not a perfect number\")\n",
    "    \n",
    "        "
   ]
  },
  {
   "cell_type": "code",
   "execution_count": 13,
   "metadata": {},
   "outputs": [
    {
     "name": "stdout",
     "output_type": "stream",
     "text": [
      "5\n",
      "5 * 1 = 5\n",
      "5 * 2 = 10\n",
      "5 * 3 = 15\n",
      "5 * 4 = 20\n",
      "5 * 5 = 25\n",
      "5 * 6 = 30\n",
      "5 * 7 = 35\n",
      "5 * 8 = 40\n",
      "5 * 9 = 45\n",
      "5 * 10 = 50\n"
     ]
    }
   ],
   "source": [
    "#multiplication table\n",
    "n=int(input())\n",
    "for i in range(1,11):\n",
    "    print(n,'*',i,'=',n*i)\n",
    "    "
   ]
  },
  {
   "cell_type": "code",
   "execution_count": 17,
   "metadata": {},
   "outputs": [
    {
     "name": "stdout",
     "output_type": "stream",
     "text": [
      "10\n",
      "1 2 3 4 6 7 8 9 10 "
     ]
    }
   ],
   "source": [
    "n=int(input())\n",
    "for i in range(1,n+1):\n",
    "    if i==5:\n",
    "        continue\n",
    "    print(i,end=\" \")"
   ]
  },
  {
   "cell_type": "code",
   "execution_count": 18,
   "metadata": {},
   "outputs": [
    {
     "name": "stdout",
     "output_type": "stream",
     "text": [
      "10\n",
      "1\n",
      "2\n",
      "3\n",
      "4\n",
      "5\n"
     ]
    }
   ],
   "source": [
    "n=int(input())\n",
    "for i in range(1,n+1):\n",
    "    print(i)\n",
    "    if i==5:\n",
    "        break"
   ]
  },
  {
   "cell_type": "code",
   "execution_count": 19,
   "metadata": {},
   "outputs": [
    {
     "name": "stdout",
     "output_type": "stream",
     "text": [
      "vassu\n",
      "v a s s u "
     ]
    }
   ],
   "source": [
    "#with string values\n",
    "name=input()\n",
    "for i in name:\n",
    "    print(i,end=\" \")\n",
    "    "
   ]
  },
  {
   "cell_type": "code",
   "execution_count": null,
   "metadata": {},
   "outputs": [],
   "source": [
    "#ascii values"
   ]
  },
  {
   "cell_type": "code",
   "execution_count": null,
   "metadata": {},
   "outputs": [],
   "source": [
    "1.ord()--> parameter is string(char)\n",
    "2.chr()--> calculating character from ascii value"
   ]
  },
  {
   "cell_type": "code",
   "execution_count": 21,
   "metadata": {},
   "outputs": [
    {
     "name": "stdout",
     "output_type": "stream",
     "text": [
      "I\n",
      "y\n",
      "b\n"
     ]
    }
   ],
   "source": [
    "print(chr(73))\n",
    "print(chr(121))\n",
    "print(chr(98))"
   ]
  },
  {
   "cell_type": "code",
   "execution_count": 22,
   "metadata": {},
   "outputs": [
    {
     "name": "stdout",
     "output_type": "stream",
     "text": [
      "thomas\n",
      "116\n",
      "104\n"
     ]
    }
   ],
   "source": [
    "name=input()\n",
    "for i in name:\n",
    "    if ord(i)%2==0:\n",
    "        print(ord(i))"
   ]
  },
  {
   "cell_type": "code",
   "execution_count": 23,
   "metadata": {},
   "outputs": [
    {
     "name": "stdout",
     "output_type": "stream",
     "text": [
      "65\n",
      "115\n",
      "80\n"
     ]
    }
   ],
   "source": [
    "print(ord('A'))\n",
    "print(ord('s'))\n",
    "print(ord('P'))"
   ]
  },
  {
   "cell_type": "code",
   "execution_count": 24,
   "metadata": {},
   "outputs": [
    {
     "name": "stdout",
     "output_type": "stream",
     "text": [
      "revathi\n",
      "114\n",
      "101\n",
      "118\n",
      "97\n",
      "116\n",
      "104\n",
      "105\n"
     ]
    }
   ],
   "source": [
    "#print ascii value of a character from given string\n",
    "name=input()\n",
    "for i in name:\n",
    "    print(ord(i))"
   ]
  },
  {
   "cell_type": "code",
   "execution_count": 26,
   "metadata": {},
   "outputs": [
    {
     "name": "stdout",
     "output_type": "stream",
     "text": [
      "neha\n",
      "nh"
     ]
    }
   ],
   "source": [
    "name=input()\n",
    "for i in name:\n",
    "    if ord(i)%2==0:\n",
    "        print(i,end='')\n",
    "    else:\n",
    "        res=ord(i)*ord(i)"
   ]
  },
  {
   "cell_type": "code",
   "execution_count": 28,
   "metadata": {},
   "outputs": [
    {
     "name": "stdout",
     "output_type": "stream",
     "text": [
      "prakash\n",
      "prhhh"
     ]
    }
   ],
   "source": [
    "name=input()\n",
    "for i in name:\n",
    "    if ord(i)%2==0:\n",
    "        print(i,end='')\n",
    "    else:\n",
    "        res=(ord(i)*ord(i))/90\n",
    "        res1=int(res)\n",
    "        print(chr(res1),end='')"
   ]
  },
  {
   "cell_type": "code",
   "execution_count": 29,
   "metadata": {},
   "outputs": [
    {
     "name": "stdout",
     "output_type": "stream",
     "text": [
      "nandini\n",
      "n\n",
      "n\n",
      "d\n",
      "n\n"
     ]
    }
   ],
   "source": [
    "name=input()\n",
    "for i in name:\n",
    "    if ord(i)%2==0:\n",
    "        print(i)"
   ]
  },
  {
   "cell_type": "code",
   "execution_count": 31,
   "metadata": {},
   "outputs": [
    {
     "name": "stdout",
     "output_type": "stream",
     "text": [
      "1\n",
      "2\n",
      "3\n",
      "4\n",
      "5\n",
      "6\n",
      "7\n",
      "8\n",
      "9\n"
     ]
    }
   ],
   "source": [
    "i=1\n",
    "while i<10:\n",
    "    print(i)\n",
    "    i=i+1"
   ]
  },
  {
   "cell_type": "code",
   "execution_count": 33,
   "metadata": {},
   "outputs": [
    {
     "name": "stdout",
     "output_type": "stream",
     "text": [
      "2 4 6 8 10 "
     ]
    }
   ],
   "source": [
    "i=1\n",
    "while i<=10:\n",
    "    if i%2==0:\n",
    "        print(i,end=' ')\n",
    "    i=i+1"
   ]
  },
  {
   "cell_type": "code",
   "execution_count": null,
   "metadata": {},
   "outputs": [],
   "source": [
    "###functions\n",
    "*block of statements/set of statements to perform particular task is function\n",
    "*block of statements will execute and return the result when function called\n",
    "####function calling\n",
    "1.function declaration\n",
    "2.body of the function\n",
    "3.function calling\n",
    "#####types of functions\n",
    "1.built_in\n",
    "  1.max-->for calculating max\n",
    "    2.min\n",
    "    3.sum-->calculating sum\n",
    "    4.len-->for calculating length\n",
    "    5.ord\n",
    "    6.chr\n",
    "    7.abs-->absolute value\n",
    "2.userdefine\n",
    "*uf is ia fuction which is defined by the user perform particular task\n",
    "  1.required arg\n",
    "    2.default arg\n",
    "    3.keyword arg\n",
    "    4.variable length\n",
    "\n",
    "    \n",
    "    "
   ]
  },
  {
   "cell_type": "code",
   "execution_count": null,
   "metadata": {},
   "outputs": [],
   "source": [
    "#syntax of function\n",
    "def function_name(arg):#function declaration\n",
    "    body of function   #body of the function\n",
    "    function_name()"
   ]
  },
  {
   "cell_type": "code",
   "execution_count": 37,
   "metadata": {},
   "outputs": [],
   "source": [
    "#greet\n",
    "def sample():\n",
    "    print(\"welcome to vignan's lara college\")\n",
    "    sample()"
   ]
  },
  {
   "cell_type": "code",
   "execution_count": 36,
   "metadata": {},
   "outputs": [
    {
     "name": "stdout",
     "output_type": "stream",
     "text": [
      "nanduvassu\n",
      "welcome to vignan's lara college nanduvassu\n"
     ]
    }
   ],
   "source": [
    "name=input()\n",
    "def sample1():\n",
    "    print(\"welcome to vignan's lara college\",name)\n",
    "sample1()"
   ]
  },
  {
   "cell_type": "code",
   "execution_count": 41,
   "metadata": {},
   "outputs": [
    {
     "name": "stdout",
     "output_type": "stream",
     "text": [
      "4\n",
      "8\n",
      "multiplication of 4 and 8 is 32\n"
     ]
    }
   ],
   "source": [
    "def local():\n",
    "    n=int(input())\n",
    "    n1=int(input())   \n",
    "    print(\"multiplication of\",n,\"and\",n1,\"is\",n*n1)\n",
    "local()"
   ]
  },
  {
   "cell_type": "code",
   "execution_count": 42,
   "metadata": {},
   "outputs": [
    {
     "name": "stdout",
     "output_type": "stream",
     "text": [
      "8\n",
      "10\n",
      "multiplication of 8 and 10 is 80\n",
      "8 10\n"
     ]
    }
   ],
   "source": [
    "n=int(input())\n",
    "n1=int(input())\n",
    "def global1():\n",
    "    print(\"multiplication of\",n,\"and\",n1,\"is\",n*n1)\n",
    "global1()\n",
    "print(n,n1)\n",
    "    "
   ]
  },
  {
   "cell_type": "code",
   "execution_count": 43,
   "metadata": {},
   "outputs": [
    {
     "name": "stdout",
     "output_type": "stream",
     "text": [
      "8\n",
      "1\n",
      "2\n",
      "6\n",
      "24\n",
      "120\n",
      "720\n",
      "5040\n",
      "40320\n"
     ]
    }
   ],
   "source": [
    "n=int(input())\n",
    "def task():\n",
    "    fact=1\n",
    "    for i in range(1,n+1):\n",
    "        fact=fact*i\n",
    "        print(fact)\n",
    "task()\n",
    "        "
   ]
  },
  {
   "cell_type": "code",
   "execution_count": 1,
   "metadata": {},
   "outputs": [
    {
     "name": "stdout",
     "output_type": "stream",
     "text": [
      "sunith\n",
      "nandini\n",
      "name is: sunith\n",
      "organization is: nandini\n"
     ]
    }
   ],
   "source": [
    "#required\n",
    "name=input()\n",
    "org=input()\n",
    "def required(name,org):\n",
    "    print(\"name is:\",name)\n",
    "    print(\"organization is:\",org)\n",
    "required(name,org)"
   ]
  },
  {
   "cell_type": "code",
   "execution_count": 2,
   "metadata": {},
   "outputs": [
    {
     "name": "stdout",
     "output_type": "stream",
     "text": [
      "name is: anu\n",
      "organization is: apssdc\n",
      "phone number is: 9908145135\n"
     ]
    }
   ],
   "source": [
    "def required(name,org,phn):\n",
    "    print(\"name is:\",name)\n",
    "    print(\"organization is:\",org)\n",
    "    print(\"phone number is:\",phn)\n",
    "required('anu','apssdc','9908145135')"
   ]
  },
  {
   "cell_type": "code",
   "execution_count": 3,
   "metadata": {},
   "outputs": [
    {
     "name": "stdout",
     "output_type": "stream",
     "text": [
      "addition is: 15\n",
      "mul is: 60\n"
     ]
    }
   ],
   "source": [
    "#default arg\n",
    "def Default(a,b,c=10):\n",
    "    print(\"addition is:\",a+b+c)\n",
    "    print(\"mul is:\",a*b*c)\n",
    "Default(3,2)"
   ]
  },
  {
   "cell_type": "code",
   "execution_count": 5,
   "metadata": {},
   "outputs": [
    {
     "ename": "SyntaxError",
     "evalue": "invalid syntax (<ipython-input-5-054bb5bfcdf7>, line 2)",
     "output_type": "error",
     "traceback": [
      "\u001b[1;36m  File \u001b[1;32m\"<ipython-input-5-054bb5bfcdf7>\"\u001b[1;36m, line \u001b[1;32m2\u001b[0m\n\u001b[1;33m    def keyword(fname,1name,uname):\u001b[0m\n\u001b[1;37m                      ^\u001b[0m\n\u001b[1;31mSyntaxError\u001b[0m\u001b[1;31m:\u001b[0m invalid syntax\n"
     ]
    }
   ],
   "source": [
    "#keyword\n",
    "def keyword(fname,1name,uname):\n",
    "    print(\"name is:\",fname+1name)\n",
    "    print(\"username is:\",uname)\n",
    "keyword(uname='archana50',fname='archana',1name='elisala')"
   ]
  },
  {
   "cell_type": "code",
   "execution_count": null,
   "metadata": {},
   "outputs": [],
   "source": []
  },
  {
   "cell_type": "code",
   "execution_count": null,
   "metadata": {},
   "outputs": [],
   "source": []
  }
 ],
 "metadata": {
  "kernelspec": {
   "display_name": "Python 3",
   "language": "python",
   "name": "python3"
  },
  "language_info": {
   "codemirror_mode": {
    "name": "ipython",
    "version": 3
   },
   "file_extension": ".py",
   "mimetype": "text/x-python",
   "name": "python",
   "nbconvert_exporter": "python",
   "pygments_lexer": "ipython3",
   "version": "3.8.5"
  }
 },
 "nbformat": 4,
 "nbformat_minor": 4
}
